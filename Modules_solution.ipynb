{
  "nbformat": 4,
  "nbformat_minor": 0,
  "metadata": {
    "colab": {
      "provenance": []
    },
    "kernelspec": {
      "name": "python3",
      "display_name": "Python 3"
    },
    "language_info": {
      "name": "python"
    }
  },
  "cells": [
    {
      "cell_type": "code",
      "execution_count": 1,
      "metadata": {
        "colab": {
          "base_uri": "https://localhost:8080/"
        },
        "id": "tM5S0OqVxtix",
        "outputId": "a7dfe419-9283-481e-8ced-bd9500f47239"
      },
      "outputs": [
        {
          "output_type": "stream",
          "name": "stdout",
          "text": [
            "Passed\n"
          ]
        }
      ],
      "source": [
        "import numpy as np\n",
        "\n",
        "# Create a 2D Numpy array of size 1x3 with elements of your choice\n",
        "arr1 = np.array([[1, 2, 3]])\n",
        "\n",
        "# Create a Numpy array of length 50 with zeroes as its elements\n",
        "arr2 = np.zeros(50)\n",
        "\n",
        "# Create a Numpy array of size 3x2 with elements of your choice\n",
        "arr3 = np.array([[4, 5], [6, 7], [8, 9]])\n",
        "\n",
        "# Multiply arr1 and arr3 using Numpy functions\n",
        "arr4 = np.dot(arr1, arr3)\n",
        "\n",
        "# Change 5th element of arr2 to a different number\n",
        "arr2[4] = 10\n",
        "\n",
        "# Check conditions\n",
        "if np.shape(arr4) == (1, 2) and arr2[4] != 0:\n",
        "    print(\"Passed\")\n",
        "else:\n",
        "    print(\"Fail\")\n"
      ]
    },
    {
      "cell_type": "code",
      "source": [
        "import pandas as pd\n",
        "\n",
        "# Create a DataFrame from a dictionary\n",
        "data = {\n",
        "    'Name': ['Ramesh', 'Mahesh', 'Suresh'],\n",
        "    'Age': [25, 30, 35],\n",
        "    'City': ['Bangalore', 'Mumbai', 'Delhi']\n",
        "}\n",
        "df = pd.DataFrame(data)\n",
        "\n",
        "# Display the first 2 rows of the data frame\n",
        "print(\"First 2 rows:\")\n",
        "print(df.head(2))\n",
        "\n",
        "# Print the age column\n",
        "print(\"\\nAge column:\")\n",
        "print(df['Age'])\n",
        "\n",
        "# Filter rows where age is greater than 26\n",
        "filtered_df = df[df['Age'] > 26]\n",
        "print(\"\\nFiltered rows where age > 26:\")\n",
        "print(filtered_df)\n",
        "\n",
        "# Add a new column 'Country' with the value 'India' for all rows\n",
        "df['Country'] = 'India'\n",
        "print(\"\\nDataFrame with 'Country' column:\")\n",
        "print(df)\n",
        "\n",
        "# Handling missing values in a DataFrame\n",
        "data1 = {\n",
        "    'Name': ['Ramesh', 'Mahesh', 'Suresh'],\n",
        "    'Age': [25, None, 35],\n",
        "    'City': ['Bangalore', 'Mumbai', 'Delhi']\n",
        "}\n",
        "df2 = pd.DataFrame(data1)\n",
        "\n",
        "# Fill missing values in the 'Age' column with the mean age\n",
        "mean_age = df2['Age'].mean()\n",
        "df2['Age'].fillna(mean_age, inplace=True)\n",
        "print(\"\\nDataFrame with filled missing values in 'Age' column:\")\n",
        "print(df2)\n"
      ],
      "metadata": {
        "colab": {
          "base_uri": "https://localhost:8080/"
        },
        "id": "U03UOKWQx_mT",
        "outputId": "942e9a7e-aa18-4e62-b832-fa7b17324379"
      },
      "execution_count": 2,
      "outputs": [
        {
          "output_type": "stream",
          "name": "stdout",
          "text": [
            "First 2 rows:\n",
            "     Name  Age       City\n",
            "0  Ramesh   25  Bangalore\n",
            "1  Mahesh   30     Mumbai\n",
            "\n",
            "Age column:\n",
            "0    25\n",
            "1    30\n",
            "2    35\n",
            "Name: Age, dtype: int64\n",
            "\n",
            "Filtered rows where age > 26:\n",
            "     Name  Age    City\n",
            "1  Mahesh   30  Mumbai\n",
            "2  Suresh   35   Delhi\n",
            "\n",
            "DataFrame with 'Country' column:\n",
            "     Name  Age       City Country\n",
            "0  Ramesh   25  Bangalore   India\n",
            "1  Mahesh   30     Mumbai   India\n",
            "2  Suresh   35      Delhi   India\n",
            "\n",
            "DataFrame with filled missing values in 'Age' column:\n",
            "     Name   Age       City\n",
            "0  Ramesh  25.0  Bangalore\n",
            "1  Mahesh  30.0     Mumbai\n",
            "2  Suresh  35.0      Delhi\n"
          ]
        }
      ]
    },
    {
      "cell_type": "code",
      "source": [
        "import matplotlib.pyplot as plt\n",
        "import numpy as np\n",
        "\n",
        "xpoints = np.array([1, 2, 3, 4])\n",
        "ypoints = np.array([2, 4, 6, 8])\n",
        "\n",
        "# Plot these points without drawing a line\n",
        "plt.scatter(xpoints, ypoints, color='black', s=100, alpha=0.5)  # Using scatter plot for points without a line\n",
        "\n",
        "# Plotting with star marker\n",
        "plt.scatter(xpoints, ypoints, marker='*', color='blue', s=100)\n",
        "\n",
        "# Using fmt format: circular marker, red color, dashed line\n",
        "plt.plot(xpoints, ypoints, 'ro--')\n",
        "\n",
        "# Adding labels and title\n",
        "plt.xlabel('X-axis')\n",
        "plt.ylabel('Y-axis')\n",
        "plt.title('Plotting Points')\n",
        "\n",
        "# Create a scatter plot for xpoints and ypoints\n",
        "plt.scatter(xpoints, ypoints)\n",
        "\n",
        "# Set colors for each point in the scatter plot\n",
        "colors = ['blue', 'green', 'red', 'yellow']\n",
        "for i in range(len(xpoints)):\n",
        "    plt.scatter(xpoints[i], ypoints[i], color=colors[i])\n",
        "\n",
        "# Show the plot\n",
        "plt.show()\n"
      ],
      "metadata": {
        "colab": {
          "base_uri": "https://localhost:8080/",
          "height": 472
        },
        "id": "XF_-SR3iyIfq",
        "outputId": "fb259709-7240-4a2b-e7ee-ed0304630917"
      },
      "execution_count": 3,
      "outputs": [
        {
          "output_type": "display_data",
          "data": {
            "text/plain": [
              "<Figure size 640x480 with 1 Axes>"
            ],
            "image/png": "[encoded data removed]"
          },
          "metadata": {}
        }
      ]
    },
    {
      "cell_type": "code",
      "source": [
        "import random\n",
        "import numpy as np\n",
        "\n",
        "# Set the seed of random to 20\n",
        "random.seed(20)\n",
        "\n",
        "arr1 = np.array([1, 24, 31, 45, 73, 81, 94, 25])\n",
        "\n",
        "# Using the random module to pick 4 different random numbers from arr1 and return their sum\n",
        "random_numbers = random.sample(list(arr1), 4)\n",
        "sum_random_numbers = sum(random_numbers)\n",
        "\n",
        "print(\"Random numbers picked:\", random_numbers)\n",
        "print(\"Sum of random numbers:\", sum_random_numbers)\n"
      ],
      "metadata": {
        "colab": {
          "base_uri": "https://localhost:8080/"
        },
        "id": "vogYpeFrylDk",
        "outputId": "60a926cd-e85d-4395-eb7e-6ad15e951a93"
      },
      "execution_count": 4,
      "outputs": [
        {
          "output_type": "stream",
          "name": "stdout",
          "text": [
            "Random numbers picked: [31, 25, 81, 1]\n",
            "Sum of random numbers: 138\n"
          ]
        }
      ]
    }
  ]
}